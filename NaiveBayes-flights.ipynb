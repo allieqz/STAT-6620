{
 "cells": [
  {
   "cell_type": "markdown",
   "metadata": {
    "collapsed": true
   },
   "source": [
    "Homework 3.2 Naive Bayes\n",
    "== \n",
    "***\n",
    "<b>STEP 1: Loading the data</b>\n",
    "\n",
    "Source of the data: Bureau of Transportation Statistics\n",
    "\n",
    "https://www.transtats.bts.gov/DataIndex.asp\n",
    "Airline On-Time Performance"
   ]
  },
  {
   "cell_type": "code",
   "execution_count": 1,
   "metadata": {
    "collapsed": true
   },
   "outputs": [],
   "source": [
    "setwd(\"C:/Users/Allie/Desktop/R\")"
   ]
  },
  {
   "cell_type": "code",
   "execution_count": 2,
   "metadata": {
    "collapsed": false
   },
   "outputs": [],
   "source": [
    "flights <- read.csv(\"flights_2016_12.csv\", stringsAsFactors = FALSE)"
   ]
  },
  {
   "cell_type": "markdown",
   "metadata": {
    "collapsed": false,
    "scrolled": true
   },
   "source": [
    "<b>STEP 2: Exploring and preparing the data</b>\n",
    "\n",
    "The dataset contains the records of the domestic flights occured in the US over the period of December 2016. Originally constructed dataset contains 25 variables (columns) and 460,949 observations (rows). "
   ]
  },
  {
   "cell_type": "code",
   "execution_count": 3,
   "metadata": {
    "collapsed": false
   },
   "outputs": [
    {
     "name": "stdout",
     "output_type": "stream",
     "text": [
      "'data.frame':\t460949 obs. of  25 variables:\n",
      " $ Year              : int  2016 2016 2016 2016 2016 2016 2016 2016 2016 2016 ...\n",
      " $ Quarter           : int  4 4 4 4 4 4 4 4 4 4 ...\n",
      " $ Month             : int  12 12 12 12 12 12 12 12 12 12 ...\n",
      " $ DayofMonth        : int  18 19 20 21 22 23 24 26 27 28 ...\n",
      " $ DayOfWeek         : int  7 1 2 3 4 5 6 1 2 3 ...\n",
      " $ FlightDate        : chr  \"12/18/2016\" \"12/19/2016\" \"12/20/2016\" \"12/21/2016\" ...\n",
      " $ UniqueCarrier     : chr  \"AA\" \"AA\" \"AA\" \"AA\" ...\n",
      " $ Carrier           : chr  \"AA\" \"AA\" \"AA\" \"AA\" ...\n",
      " $ Origin            : chr  \"MSP\" \"MSP\" \"MSP\" \"MSP\" ...\n",
      " $ Dest              : chr  \"ORD\" \"ORD\" \"ORD\" \"ORD\" ...\n",
      " $ CRSDepTime        : int  1558 1558 1558 1558 1558 1558 1605 1558 1558 1558 ...\n",
      " $ DepTime           : int  1556 1555 1555 1555 1600 1553 1628 1751 1605 1555 ...\n",
      " $ DepDelay          : int  -2 -3 -3 -3 2 -5 23 113 7 -3 ...\n",
      " $ DepDelayMinutes   : int  0 0 0 0 2 0 23 113 7 0 ...\n",
      " $ DepDel15          : int  0 0 0 0 0 0 1 1 0 0 ...\n",
      " $ CRSArrTime        : int  1734 1734 1734 1734 1734 1734 1737 1734 1734 1734 ...\n",
      " $ ArrTime           : int  1754 1754 1731 1724 1726 1758 1753 1942 1728 1712 ...\n",
      " $ ArrDelay          : int  20 20 -3 -10 -8 24 16 128 -6 -22 ...\n",
      " $ ArrDelayMinutes   : int  20 20 0 0 0 24 16 128 0 0 ...\n",
      " $ ArrDel15          : int  1 1 0 0 0 1 1 1 0 0 ...\n",
      " $ ArrivalDelayGroups: int  1 1 -1 -1 -1 1 1 8 -1 -2 ...\n",
      " $ Cancelled         : int  0 0 0 0 0 0 0 0 0 0 ...\n",
      " $ AirTime           : int  58 57 49 51 51 56 51 52 52 55 ...\n",
      " $ Distance          : int  334 334 334 334 334 334 334 334 334 334 ...\n",
      " $ DistanceGroup     : int  2 2 2 2 2 2 2 2 2 2 ...\n"
     ]
    }
   ],
   "source": [
    "str(flights)"
   ]
  },
  {
   "cell_type": "code",
   "execution_count": 4,
   "metadata": {
    "collapsed": true
   },
   "outputs": [],
   "source": [
    "# Removing variables\n",
    "drop <- c(1:3, 6:7, 12:15, 17:20, 23:24)\n",
    "flights <- flights[,-drop]"
   ]
  },
  {
   "cell_type": "code",
   "execution_count": 5,
   "metadata": {
    "collapsed": true
   },
   "outputs": [],
   "source": [
    "# Removing all the cancelled flights from the dataset\n",
    "flights <- flights[flights$Cancelled != 1, ]\n",
    "# Removing the variable \"Cancelled\"\n",
    "flightsFinal <- flights[, -9]"
   ]
  },
  {
   "cell_type": "code",
   "execution_count": 6,
   "metadata": {
    "collapsed": false
   },
   "outputs": [
    {
     "data": {
      "text/plain": [
       "   DayofMonth      DayOfWeek       Carrier             Origin         \n",
       " Min.   : 1.00   Min.   :1.000   Length:453485      Length:453485     \n",
       " 1st Qu.: 8.00   1st Qu.:2.000   Class :character   Class :character  \n",
       " Median :16.00   Median :4.000   Mode  :character   Mode  :character  \n",
       " Mean   :16.07   Mean   :3.981                                        \n",
       " 3rd Qu.:24.00   3rd Qu.:6.000                                        \n",
       " Max.   :31.00   Max.   :7.000                                        \n",
       "                                                                      \n",
       "     Dest             CRSDepTime     CRSArrTime   ArrivalDelayGroups\n",
       " Length:453485      Min.   :   5   Min.   :   1   Min.   :-2.0000   \n",
       " Class :character   1st Qu.: 915   1st Qu.:1109   1st Qu.:-1.0000   \n",
       " Mode  :character   Median :1325   Median :1520   Median :-1.0000   \n",
       "                    Mean   :1330   Mean   :1494   Mean   : 0.0343   \n",
       "                    3rd Qu.:1735   3rd Qu.:1920   3rd Qu.: 0.0000   \n",
       "                    Max.   :2359   Max.   :2359   Max.   :12.0000   \n",
       "                                                  NA's   :1256      \n",
       " DistanceGroup   \n",
       " Min.   : 1.000  \n",
       " 1st Qu.: 2.000  \n",
       " Median : 3.000  \n",
       " Mean   : 3.941  \n",
       " 3rd Qu.: 5.000  \n",
       " Max.   :11.000  \n",
       "                 "
      ]
     },
     "metadata": {},
     "output_type": "display_data"
    }
   ],
   "source": [
    "summary(flightsFinal)"
   ]
  },
  {
   "cell_type": "code",
   "execution_count": 7,
   "metadata": {
    "collapsed": true
   },
   "outputs": [],
   "source": [
    "# Binning DayofMonth variable\n",
    "flightsFinal$DayofMonth = ordered(cut(flightsFinal$DayofMonth, c(0, 23, Inf), right = FALSE), \n",
    "                                  labels = c(\"Regular\", \"Holiday\"))"
   ]
  },
  {
   "cell_type": "code",
   "execution_count": 8,
   "metadata": {
    "collapsed": false
   },
   "outputs": [
    {
     "data": {
      "text/html": [
       "<dl class=dl-horizontal>\n",
       "\t<dt>Regular</dt>\n",
       "\t\t<dd>322344</dd>\n",
       "\t<dt>Holiday</dt>\n",
       "\t\t<dd>131141</dd>\n",
       "</dl>\n"
      ],
      "text/latex": [
       "\\begin{description*}\n",
       "\\item[Regular] 322344\n",
       "\\item[Holiday] 131141\n",
       "\\end{description*}\n"
      ],
      "text/markdown": [
       "Regular\n",
       ":   322344Holiday\n",
       ":   131141\n",
       "\n"
      ],
      "text/plain": [
       "Regular Holiday \n",
       " 322344  131141 "
      ]
     },
     "metadata": {},
     "output_type": "display_data"
    }
   ],
   "source": [
    "summary(flightsFinal$DayofMonth)"
   ]
  },
  {
   "cell_type": "code",
   "execution_count": 9,
   "metadata": {
    "collapsed": false
   },
   "outputs": [
    {
     "name": "stdout",
     "output_type": "stream",
     "text": [
      " Ord.factor w/ 2 levels \"Regular\"<\"Holiday\": 1 1 1 1 1 2 2 2 2 2 ...\n"
     ]
    }
   ],
   "source": [
    "str(flightsFinal$DayofMonth)"
   ]
  },
  {
   "cell_type": "code",
   "execution_count": 10,
   "metadata": {
    "collapsed": false
   },
   "outputs": [
    {
     "name": "stdout",
     "output_type": "stream",
     "text": [
      " Factor w/ 7 levels \"Friday\",\"Monday\",..: 4 2 6 7 5 1 3 2 6 7 ...\n"
     ]
    }
   ],
   "source": [
    "flightsFinal$DayOfWeek = as.character(flightsFinal$DayOfWeek)\n",
    "flightsFinal$DayOfWeek = gsub(\"1\", \"Monday\", flightsFinal$DayOfWeek)\n",
    "flightsFinal$DayOfWeek = gsub(\"2\", \"Tuesday\", flightsFinal$DayOfWeek)\n",
    "flightsFinal$DayOfWeek = gsub(\"3\", \"Wednesday\", flightsFinal$DayOfWeek)\n",
    "flightsFinal$DayOfWeek = gsub(\"4\", \"Thursday\", flightsFinal$DayOfWeek)\n",
    "flightsFinal$DayOfWeek = gsub(\"5\", \"Friday\", flightsFinal$DayOfWeek)\n",
    "flightsFinal$DayOfWeek = gsub(\"6\", \"Saturday\", flightsFinal$DayOfWeek)\n",
    "flightsFinal$DayOfWeek = gsub(\"7\", \"Sunday\", flightsFinal$DayOfWeek)\n",
    "flightsFinal$DayOfWeek = factor(flightsFinal$DayOfWeek)\n",
    "str(flightsFinal$DayOfWeek)"
   ]
  },
  {
   "cell_type": "code",
   "execution_count": 11,
   "metadata": {
    "collapsed": false
   },
   "outputs": [
    {
     "data": {
      "text/html": [
       "<dl class=dl-horizontal>\n",
       "\t<dt>Overnight</dt>\n",
       "\t\t<dd>12413</dd>\n",
       "\t<dt>Early Morning</dt>\n",
       "\t\t<dd>91222</dd>\n",
       "\t<dt>Morning</dt>\n",
       "\t\t<dd>84870</dd>\n",
       "\t<dt>Afternoon</dt>\n",
       "\t\t<dd>81238</dd>\n",
       "\t<dt>Late Afternoon</dt>\n",
       "\t\t<dd>83560</dd>\n",
       "\t<dt>Evening</dt>\n",
       "\t\t<dd>70460</dd>\n",
       "\t<dt>Late Evening</dt>\n",
       "\t\t<dd>29722</dd>\n",
       "</dl>\n"
      ],
      "text/latex": [
       "\\begin{description*}\n",
       "\\item[Overnight] 12413\n",
       "\\item[Early Morning] 91222\n",
       "\\item[Morning] 84870\n",
       "\\item[Afternoon] 81238\n",
       "\\item[Late Afternoon] 83560\n",
       "\\item[Evening] 70460\n",
       "\\item[Late Evening] 29722\n",
       "\\end{description*}\n"
      ],
      "text/markdown": [
       "Overnight\n",
       ":   12413Early Morning\n",
       ":   91222Morning\n",
       ":   84870Afternoon\n",
       ":   81238Late Afternoon\n",
       ":   83560Evening\n",
       ":   70460Late Evening\n",
       ":   29722\n",
       "\n"
      ],
      "text/plain": [
       "     Overnight  Early Morning        Morning      Afternoon Late Afternoon \n",
       "         12413          91222          84870          81238          83560 \n",
       "       Evening   Late Evening \n",
       "         70460          29722 "
      ]
     },
     "metadata": {},
     "output_type": "display_data"
    }
   ],
   "source": [
    "# Binning CRSDepTime (scheduled departure time)\n",
    "flightsFinal$CRSDepTime = ordered(cut(flightsFinal$CRSDepTime, c(0, 600, 900, 1200, 1500, 1800, 2100, Inf), right = FALSE), \n",
    "                                  labels = c(\"Overnight\", \"Early Morning\", \"Morning\", \"Afternoon\", \"Late Afternoon\", \"Evening\", \"Late Evening\"))\n",
    "summary(flightsFinal$CRSDepTime)"
   ]
  },
  {
   "cell_type": "code",
   "execution_count": 12,
   "metadata": {
    "collapsed": false
   },
   "outputs": [
    {
     "data": {
      "text/html": [
       "<dl class=dl-horizontal>\n",
       "\t<dt>Night</dt>\n",
       "\t\t<dd>13009</dd>\n",
       "\t<dt>Early Morning</dt>\n",
       "\t\t<dd>42562</dd>\n",
       "\t<dt>Morning</dt>\n",
       "\t\t<dd>79936</dd>\n",
       "\t<dt>Afternoon</dt>\n",
       "\t\t<dd>81992</dd>\n",
       "\t<dt>Late Afternoon</dt>\n",
       "\t\t<dd>83495</dd>\n",
       "\t<dt>Evening</dt>\n",
       "\t\t<dd>82115</dd>\n",
       "\t<dt>Late Evening</dt>\n",
       "\t\t<dd>70376</dd>\n",
       "</dl>\n"
      ],
      "text/latex": [
       "\\begin{description*}\n",
       "\\item[Night] 13009\n",
       "\\item[Early Morning] 42562\n",
       "\\item[Morning] 79936\n",
       "\\item[Afternoon] 81992\n",
       "\\item[Late Afternoon] 83495\n",
       "\\item[Evening] 82115\n",
       "\\item[Late Evening] 70376\n",
       "\\end{description*}\n"
      ],
      "text/markdown": [
       "Night\n",
       ":   13009Early Morning\n",
       ":   42562Morning\n",
       ":   79936Afternoon\n",
       ":   81992Late Afternoon\n",
       ":   83495Evening\n",
       ":   82115Late Evening\n",
       ":   70376\n",
       "\n"
      ],
      "text/plain": [
       "         Night  Early Morning        Morning      Afternoon Late Afternoon \n",
       "         13009          42562          79936          81992          83495 \n",
       "       Evening   Late Evening \n",
       "         82115          70376 "
      ]
     },
     "metadata": {},
     "output_type": "display_data"
    }
   ],
   "source": [
    "# Binning CRSArrTime (scheduled arrival time)\n",
    "flightsFinal$CRSArrTime = ordered(cut(flightsFinal$CRSArrTime, c(0, 600, 900, 1200, 1500, 1800, 2100, Inf), right = FALSE), \n",
    "                                  labels = c(\"Night\", \"Early Morning\", \"Morning\", \"Afternoon\", \"Late Afternoon\", \"Evening\", \"Late Evening\"))\n",
    "summary(flightsFinal$CRSArrTime)"
   ]
  },
  {
   "cell_type": "code",
   "execution_count": 13,
   "metadata": {
    "collapsed": false
   },
   "outputs": [
    {
     "data": {
      "text/html": [
       "<dl class=dl-horizontal>\n",
       "\t<dt>On-Time Arrival</dt>\n",
       "\t\t<dd>348636</dd>\n",
       "\t<dt>Moderately Late</dt>\n",
       "\t\t<dd>70135</dd>\n",
       "\t<dt>Very Late</dt>\n",
       "\t\t<dd>27498</dd>\n",
       "\t<dt>Severely Late</dt>\n",
       "\t\t<dd>5960</dd>\n",
       "\t<dt>NA's</dt>\n",
       "\t\t<dd>1256</dd>\n",
       "</dl>\n"
      ],
      "text/latex": [
       "\\begin{description*}\n",
       "\\item[On-Time Arrival] 348636\n",
       "\\item[Moderately Late] 70135\n",
       "\\item[Very Late] 27498\n",
       "\\item[Severely Late] 5960\n",
       "\\item[NA's] 1256\n",
       "\\end{description*}\n"
      ],
      "text/markdown": [
       "On-Time Arrival\n",
       ":   348636Moderately Late\n",
       ":   70135Very Late\n",
       ":   27498Severely Late\n",
       ":   5960NA's\n",
       ":   1256\n",
       "\n"
      ],
      "text/plain": [
       "On-Time Arrival Moderately Late       Very Late   Severely Late            NA's \n",
       "         348636           70135           27498            5960            1256 "
      ]
     },
     "metadata": {},
     "output_type": "display_data"
    }
   ],
   "source": [
    "# Binning ArrivalGroups variable\n",
    "flightsFinal$ArrivalDelayGroups = ordered(cut(flightsFinal$ArrivalDelayGroups, c(-2, 1, 4, 12, Inf), right = FALSE), \n",
    "                                          labels = c(\"On-Time Arrival\", \"Moderately Late\", \"Very Late\", \"Severely Late\"))\n",
    "summary(flightsFinal$ArrivalDelayGroups)"
   ]
  },
  {
   "cell_type": "code",
   "execution_count": 14,
   "metadata": {
    "collapsed": false
   },
   "outputs": [
    {
     "data": {
      "text/html": [
       "<dl class=dl-horizontal>\n",
       "\t<dt>Short-Haul</dt>\n",
       "\t\t<dd>311282</dd>\n",
       "\t<dt>Medium-Haul</dt>\n",
       "\t\t<dd>131792</dd>\n",
       "\t<dt>Long-Haul</dt>\n",
       "\t\t<dd>10411</dd>\n",
       "</dl>\n"
      ],
      "text/latex": [
       "\\begin{description*}\n",
       "\\item[Short-Haul] 311282\n",
       "\\item[Medium-Haul] 131792\n",
       "\\item[Long-Haul] 10411\n",
       "\\end{description*}\n"
      ],
      "text/markdown": [
       "Short-Haul\n",
       ":   311282Medium-Haul\n",
       ":   131792Long-Haul\n",
       ":   10411\n",
       "\n"
      ],
      "text/plain": [
       " Short-Haul Medium-Haul   Long-Haul \n",
       "     311282      131792       10411 "
      ]
     },
     "metadata": {},
     "output_type": "display_data"
    }
   ],
   "source": [
    "# Binning DistanceGroup variable\n",
    "flightsFinal$DistanceGroup = ordered(cut(flightsFinal$DistanceGroup, c(1, 5, 11, Inf), right = FALSE), \n",
    "                                     labels = c(\"Short-Haul\", \"Medium-Haul\", \"Long-Haul\"))\n",
    "summary(flightsFinal$DistanceGroup)"
   ]
  },
  {
   "cell_type": "code",
   "execution_count": 15,
   "metadata": {
    "collapsed": true
   },
   "outputs": [],
   "source": [
    "# Converting chr variables into factor\n",
    "flightsFinal$Carrier <- factor(flightsFinal$Carrier)\n",
    "flightsFinal$Origin <- factor(flightsFinal$Origin)\n",
    "flightsFinal$Dest <- factor(flightsFinal$Dest)"
   ]
  },
  {
   "cell_type": "code",
   "execution_count": 16,
   "metadata": {
    "collapsed": false
   },
   "outputs": [
    {
     "name": "stdout",
     "output_type": "stream",
     "text": [
      "'data.frame':\t453485 obs. of  9 variables:\n",
      " $ DayofMonth        : Ord.factor w/ 2 levels \"Regular\"<\"Holiday\": 1 1 1 1 1 2 2 2 2 2 ...\n",
      " $ DayOfWeek         : Factor w/ 7 levels \"Friday\",\"Monday\",..: 4 2 6 7 5 1 3 2 6 7 ...\n",
      " $ Carrier           : Factor w/ 12 levels \"AA\",\"AS\",\"B6\",..: 1 1 1 1 1 1 1 1 1 1 ...\n",
      " $ Origin            : Factor w/ 297 levels \"ABE\",\"ABI\",\"ABQ\",..: 200 200 200 200 200 200 200 200 200 200 ...\n",
      " $ Dest              : Factor w/ 297 levels \"ABE\",\"ABI\",\"ABQ\",..: 211 211 211 211 211 211 211 211 211 211 ...\n",
      " $ CRSDepTime        : Ord.factor w/ 7 levels \"Overnight\"<\"Early Morning\"<..: 5 5 5 5 5 5 5 5 5 5 ...\n",
      " $ CRSArrTime        : Ord.factor w/ 7 levels \"Night\"<\"Early Morning\"<..: 5 5 5 5 5 5 5 5 5 5 ...\n",
      " $ ArrivalDelayGroups: Ord.factor w/ 4 levels \"On-Time Arrival\"<..: 2 2 1 1 1 2 2 3 1 1 ...\n",
      " $ DistanceGroup     : Ord.factor w/ 3 levels \"Short-Haul\"<\"Medium-Haul\"<..: 1 1 1 1 1 1 1 1 1 1 ...\n"
     ]
    }
   ],
   "source": [
    "str(flightsFinal)"
   ]
  },
  {
   "cell_type": "code",
   "execution_count": 17,
   "metadata": {
    "collapsed": false
   },
   "outputs": [
    {
     "name": "stderr",
     "output_type": "stream",
     "text": [
      "Loading required package: lattice\n",
      "Loading required package: ggplot2\n"
     ]
    }
   ],
   "source": [
    "# Splitting the data into Training and Test sets, containing 75% and 25% of observaions respectively\n",
    "library(caret)\n",
    "TrainingIndex <- createDataPartition(flightsFinal$ArrivalDelayGroups, p=0.75, list = FALSE)\n",
    "f_train <- flightsFinal[TrainingIndex,]\n",
    "f_test <- flightsFinal[-TrainingIndex,]"
   ]
  },
  {
   "cell_type": "markdown",
   "metadata": {
    "collapsed": true
   },
   "source": [
    "<b>STEP 3: Training a model on the data</b>\n",
    "\n",
    "We need to install and load *e1071* package to build the classifier. The predicted class is ArrivalDelayGroups; the labels are: On-Time Arrival, Moderately Late, Very Late, Severely Late."
   ]
  },
  {
   "cell_type": "code",
   "execution_count": 18,
   "metadata": {
    "collapsed": true
   },
   "outputs": [],
   "source": [
    "library(e1071)\n",
    "f_classifier <- naiveBayes(ArrivalDelayGroups ~ ., data = f_train)"
   ]
  },
  {
   "cell_type": "markdown",
   "metadata": {
    "collapsed": true
   },
   "source": [
    "<b>STEP 4: Evaluating model performance</b>\n",
    "\n",
    "Making predictions using the classifier and calculating the Accuracy rate:"
   ]
  },
  {
   "cell_type": "code",
   "execution_count": 19,
   "metadata": {
    "collapsed": true
   },
   "outputs": [],
   "source": [
    "f_test_pred <- predict(f_classifier, f_test)"
   ]
  },
  {
   "cell_type": "code",
   "execution_count": 20,
   "metadata": {
    "collapsed": false
   },
   "outputs": [
    {
     "data": {
      "text/html": [
       "<dl class=dl-horizontal>\n",
       "\t<dt>Accuracy</dt>\n",
       "\t\t<dd>0.767805335409001</dd>\n",
       "\t<dt>Kappa</dt>\n",
       "\t\t<dd>0.0171514083990261</dd>\n",
       "\t<dt>AccuracyLower</dt>\n",
       "\t\t<dd>0.765332827034939</dd>\n",
       "\t<dt>AccuracyUpper</dt>\n",
       "\t\t<dd>0.770264099311375</dd>\n",
       "\t<dt>AccuracyNull</dt>\n",
       "\t\t<dd>0.770936527030852</dd>\n",
       "\t<dt>AccuracyPValue</dt>\n",
       "\t\t<dd>0.993886667451477</dd>\n",
       "\t<dt>McnemarPValue</dt>\n",
       "\t\t<dd>0</dd>\n",
       "</dl>\n"
      ],
      "text/latex": [
       "\\begin{description*}\n",
       "\\item[Accuracy] 0.767805335409001\n",
       "\\item[Kappa] 0.0171514083990261\n",
       "\\item[AccuracyLower] 0.765332827034939\n",
       "\\item[AccuracyUpper] 0.770264099311375\n",
       "\\item[AccuracyNull] 0.770936527030852\n",
       "\\item[AccuracyPValue] 0.993886667451477\n",
       "\\item[McnemarPValue] 0\n",
       "\\end{description*}\n"
      ],
      "text/markdown": [
       "Accuracy\n",
       ":   0.767805335409001Kappa\n",
       ":   0.0171514083990261AccuracyLower\n",
       ":   0.765332827034939AccuracyUpper\n",
       ":   0.770264099311375AccuracyNull\n",
       ":   0.770936527030852AccuracyPValue\n",
       ":   0.993886667451477McnemarPValue\n",
       ":   0\n",
       "\n"
      ],
      "text/plain": [
       "      Accuracy          Kappa  AccuracyLower  AccuracyUpper   AccuracyNull \n",
       "    0.76780534     0.01715141     0.76533283     0.77026410     0.77093653 \n",
       "AccuracyPValue  McnemarPValue \n",
       "    0.99388667     0.00000000 "
      ]
     },
     "metadata": {},
     "output_type": "display_data"
    }
   ],
   "source": [
    "cm <-confusionMatrix(f_test_pred, f_test$ArrivalDelayGroups)\n",
    "cm$overall"
   ]
  },
  {
   "cell_type": "markdown",
   "metadata": {},
   "source": [
    "<b>STEP 5: Improving model performance using Laplace smoothing</b>"
   ]
  },
  {
   "cell_type": "code",
   "execution_count": 21,
   "metadata": {
    "collapsed": true
   },
   "outputs": [],
   "source": [
    "f_classifier2 <- naiveBayes(ArrivalDelayGroups ~ ., data = flightsFinal, laplace = 2)\n",
    "f_test_pred2 <- predict(f_classifier2, flightsFinal[,-8])"
   ]
  },
  {
   "cell_type": "code",
   "execution_count": 22,
   "metadata": {
    "collapsed": false
   },
   "outputs": [
    {
     "data": {
      "text/html": [
       "<dl class=dl-horizontal>\n",
       "\t<dt>Accuracy</dt>\n",
       "\t\t<dd>0.769079382348324</dd>\n",
       "\t<dt>Kappa</dt>\n",
       "\t\t<dd>0.0181158064434001</dd>\n",
       "\t<dt>AccuracyLower</dt>\n",
       "\t\t<dd>0.767848307783419</dd>\n",
       "\t<dt>AccuracyUpper</dt>\n",
       "\t\t<dd>0.770307008547078</dd>\n",
       "\t<dt>AccuracyNull</dt>\n",
       "\t\t<dd>0.770928003290368</dd>\n",
       "\t<dt>AccuracyPValue</dt>\n",
       "\t\t<dd>0.998449500451797</dd>\n",
       "\t<dt>McnemarPValue</dt>\n",
       "\t\t<dd>0</dd>\n",
       "</dl>\n"
      ],
      "text/latex": [
       "\\begin{description*}\n",
       "\\item[Accuracy] 0.769079382348324\n",
       "\\item[Kappa] 0.0181158064434001\n",
       "\\item[AccuracyLower] 0.767848307783419\n",
       "\\item[AccuracyUpper] 0.770307008547078\n",
       "\\item[AccuracyNull] 0.770928003290368\n",
       "\\item[AccuracyPValue] 0.998449500451797\n",
       "\\item[McnemarPValue] 0\n",
       "\\end{description*}\n"
      ],
      "text/markdown": [
       "Accuracy\n",
       ":   0.769079382348324Kappa\n",
       ":   0.0181158064434001AccuracyLower\n",
       ":   0.767848307783419AccuracyUpper\n",
       ":   0.770307008547078AccuracyNull\n",
       ":   0.770928003290368AccuracyPValue\n",
       ":   0.998449500451797McnemarPValue\n",
       ":   0\n",
       "\n"
      ],
      "text/plain": [
       "      Accuracy          Kappa  AccuracyLower  AccuracyUpper   AccuracyNull \n",
       "    0.76907938     0.01811581     0.76784831     0.77030701     0.77092800 \n",
       "AccuracyPValue  McnemarPValue \n",
       "    0.99844950     0.00000000 "
      ]
     },
     "metadata": {},
     "output_type": "display_data"
    }
   ],
   "source": [
    "# New confusion matrix\n",
    "cm2 <-confusionMatrix(f_test_pred2, flightsFinal$ArrivalDelayGroups)\n",
    "cm2$overall"
   ]
  },
  {
   "cell_type": "markdown",
   "metadata": {
    "collapsed": true
   },
   "source": [
    "The model Accuracy stayed roughly at 77%."
   ]
  },
  {
   "cell_type": "code",
   "execution_count": 23,
   "metadata": {
    "collapsed": false
   },
   "outputs": [
    {
     "name": "stdout",
     "output_type": "stream",
     "text": [
      "\n",
      " \n",
      "   Cell Contents\n",
      "|-------------------------|\n",
      "|                       N |\n",
      "|           N / Col Total |\n",
      "|-------------------------|\n",
      "\n",
      " \n",
      "Total Observations in Table:  452229 \n",
      "\n",
      " \n",
      "                | actual \n",
      "      predicted | On-Time Arrival | Moderately Late |       Very Late |   Severely Late |       Row Total | \n",
      "----------------|-----------------|-----------------|-----------------|-----------------|-----------------|\n",
      "On-Time Arrival |          346510 |           68816 |           26799 |            5826 |          447951 | \n",
      "                |           0.994 |           0.981 |           0.975 |           0.978 |                 | \n",
      "----------------|-----------------|-----------------|-----------------|-----------------|-----------------|\n",
      "Moderately Late |            1426 |            1023 |             430 |              65 |            2944 | \n",
      "                |           0.004 |           0.015 |           0.016 |           0.011 |                 | \n",
      "----------------|-----------------|-----------------|-----------------|-----------------|-----------------|\n",
      "      Very Late |             672 |             286 |             262 |              64 |            1284 | \n",
      "                |           0.002 |           0.004 |           0.010 |           0.011 |                 | \n",
      "----------------|-----------------|-----------------|-----------------|-----------------|-----------------|\n",
      "  Severely Late |              28 |              10 |               7 |               5 |              50 | \n",
      "                |           0.000 |           0.000 |           0.000 |           0.001 |                 | \n",
      "----------------|-----------------|-----------------|-----------------|-----------------|-----------------|\n",
      "   Column Total |          348636 |           70135 |           27498 |            5960 |          452229 | \n",
      "                |           0.771 |           0.155 |           0.061 |           0.013 |                 | \n",
      "----------------|-----------------|-----------------|-----------------|-----------------|-----------------|\n",
      "\n",
      " \n"
     ]
    }
   ],
   "source": [
    "library(gmodels)\n",
    "CrossTable(f_test_pred2, flightsFinal$ArrivalDelayGroups,\n",
    "           prop.chisq = FALSE, prop.t = FALSE, prop.r = FALSE,\n",
    "           dnn = c('predicted', 'actual'))"
   ]
  }
 ],
 "metadata": {
  "anaconda-cloud": {},
  "kernelspec": {
   "display_name": "R",
   "language": "R",
   "name": "ir"
  },
  "language_info": {
   "codemirror_mode": "r",
   "file_extension": ".r",
   "mimetype": "text/x-r-source",
   "name": "R",
   "pygments_lexer": "r",
   "version": "3.3.3"
  }
 },
 "nbformat": 4,
 "nbformat_minor": 0
}
