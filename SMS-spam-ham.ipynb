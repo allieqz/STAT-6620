{
 "cells": [
  {
   "cell_type": "markdown",
   "metadata": {},
   "source": [
    "Homework 3.1 Preparing report on SMS spam filtering analysis\n",
    "===\n",
    "<b>STEP 1: Loading the data</b>\n",
    "\n",
    "To build the Naive Bayes classifier, we used data adapted from the SMS Spam Collection at http://www.dt.fee.unicamp.br/~tiago/smsspamcollection/"
   ]
  },
  {
   "cell_type": "code",
   "execution_count": 1,
   "metadata": {
    "collapsed": false
   },
   "outputs": [],
   "source": [
    "setwd(\"C:/Users/Allie/Desktop/R\")"
   ]
  },
  {
   "cell_type": "code",
   "execution_count": 2,
   "metadata": {
    "collapsed": true
   },
   "outputs": [],
   "source": [
    "# Loading the csv file\n",
    "sms_raw <- read.csv(\"sms_spam.csv\", stringsAsFactors = FALSE)"
   ]
  },
  {
   "cell_type": "markdown",
   "metadata": {
    "collapsed": true
   },
   "source": [
    "<b>STEP 2: Exploring and preparing the data</b>\n",
    "\n",
    "The data frame includes 5,559 SMS messages. The type element is currently a char vector. Since this is a categorical variable, we need to convert it into a factor:"
   ]
  },
  {
   "cell_type": "code",
   "execution_count": 3,
   "metadata": {
    "collapsed": false,
    "scrolled": true
   },
   "outputs": [
    {
     "name": "stdout",
     "output_type": "stream",
     "text": [
      "'data.frame':\t5559 obs. of  2 variables:\n",
      " $ type: chr  \"ham\" \"ham\" \"ham\" \"spam\" ...\n",
      " $ text: chr  \"Hope you are having a good week. Just checking in\" \"K..give back my thanks.\" \"Am also doing in cbe only. But have to pay.\" \"complimentary 4 STAR Ibiza Holiday or Â£10,000 cash needs your URGENT collection. 09066364349 NOW from Landline not to lose out\"| __truncated__ ...\n"
     ]
    }
   ],
   "source": [
    "str(sms_raw)"
   ]
  },
  {
   "cell_type": "code",
   "execution_count": 4,
   "metadata": {
    "collapsed": true
   },
   "outputs": [],
   "source": [
    "# Converting spam/ham to factor\n",
    "sms_raw$type <- factor(sms_raw$type)"
   ]
  },
  {
   "cell_type": "markdown",
   "metadata": {},
   "source": [
    "Futher preparation of the data frame includes cutting the messages into single words, removing numbers, punctuation, and extra spaces. We also want same words with different capitalization to be counted as instances of one word, therefore we need to convert all words into their lowercase versions.\n",
    "The next data prep step includes removal of the *stop words* - filling words such as *and, or, but*.\n",
    "The final step of the data transformation is *stemming* - process of reducing words to their root form. Example: *call, calling, called.*\n",
    "To perform the above transformation, we need to download and install <b>*tm*</b> package."
   ]
  },
  {
   "cell_type": "code",
   "execution_count": 5,
   "metadata": {
    "collapsed": false
   },
   "outputs": [
    {
     "name": "stderr",
     "output_type": "stream",
     "text": [
      "Loading required package: NLP\n"
     ]
    }
   ],
   "source": [
    "# Building a corpus using the text mining (tm) package\n",
    "library(tm)\n",
    "sms_corpus <- VCorpus(VectorSource(sms_raw$text))"
   ]
  },
  {
   "cell_type": "code",
   "execution_count": 6,
   "metadata": {
    "collapsed": true
   },
   "outputs": [],
   "source": [
    "sms_dtm <- DocumentTermMatrix(sms_corpus, control = list(\n",
    "  tolower = TRUE,\n",
    "  removeNumbers = TRUE,\n",
    "  stopwords = TRUE,\n",
    "  removePunctuation = TRUE,\n",
    "  stemming = TRUE\n",
    "))"
   ]
  },
  {
   "cell_type": "code",
   "execution_count": 7,
   "metadata": {
    "collapsed": false
   },
   "outputs": [
    {
     "data": {
      "text/plain": [
       "<<DocumentTermMatrix (documents: 5559, terms: 6965)>>\n",
       "Non-/sparse entries: 43231/38675204\n",
       "Sparsity           : 100%\n",
       "Maximal term length: 40\n",
       "Weighting          : term frequency (tf)"
      ]
     },
     "metadata": {},
     "output_type": "display_data"
    }
   ],
   "source": [
    "sms_dtm"
   ]
  },
  {
   "cell_type": "code",
   "execution_count": 8,
   "metadata": {
    "collapsed": true
   },
   "outputs": [],
   "source": [
    "# Creating training and test datasets\n",
    "sms_dtm_train <- sms_dtm[1:4169, ]\n",
    "sms_dtm_test  <- sms_dtm[4170:5559, ]"
   ]
  },
  {
   "cell_type": "code",
   "execution_count": 9,
   "metadata": {
    "collapsed": true
   },
   "outputs": [],
   "source": [
    "# Saving the labels\n",
    "sms_train_labels <- sms_raw[1:4169, ]$type\n",
    "sms_test_labels  <- sms_raw[4170:5559, ]$type"
   ]
  },
  {
   "cell_type": "code",
   "execution_count": 10,
   "metadata": {
    "collapsed": false
   },
   "outputs": [
    {
     "data": {
      "text/plain": [
       "sms_train_labels\n",
       "      ham      spam \n",
       "0.8647158 0.1352842 "
      ]
     },
     "metadata": {},
     "output_type": "display_data"
    },
    {
     "data": {
      "text/plain": [
       "sms_test_labels\n",
       "      ham      spam \n",
       "0.8683453 0.1316547 "
      ]
     },
     "metadata": {},
     "output_type": "display_data"
    }
   ],
   "source": [
    "# Checking that the proportion of spam is similar\n",
    "prop.table(table(sms_train_labels))\n",
    "prop.table(table(sms_test_labels))"
   ]
  },
  {
   "cell_type": "markdown",
   "metadata": {},
   "source": [
    "A <b>*word cloud*</b> is a way to visually depict the frequency at which words appear in text data. The cloud is composed of words scattered somewhat randomly around the figure. Words appearing more often in the text are shown in a *larger* font, while less common terms are shown in *smaller* fonts. To perform that, we need to install and load the *wordcloud* package:"
   ]
  },
  {
   "cell_type": "code",
   "execution_count": 20,
   "metadata": {
    "collapsed": false
   },
   "outputs": [],
   "source": [
    "library(wordcloud)\n",
    "# Subseting the training data into spam and ham groups\n",
    "spam <- subset(sms_raw, type == \"spam\")\n",
    "ham  <- subset(sms_raw, type == \"ham\")"
   ]
  },
  {
   "cell_type": "code",
   "execution_count": 12,
   "metadata": {
    "collapsed": false
   },
   "outputs": [
    {
     "data": {
      "image/png": "[encoded data removed]",
      "text/plain": [
       "plot without title"
      ]
     },
     "metadata": {},
     "output_type": "display_data"
    }
   ],
   "source": [
    "# Displaying frequent words in spam with min count of 50\n",
    "wordcloud(spam$text, max.words = 50, scale = c(3, 0.5))"
   ]
  },
  {
   "cell_type": "code",
   "execution_count": 13,
   "metadata": {
    "collapsed": false
   },
   "outputs": [
    {
     "data": {
      "image/png": "[encoded data removed]",
      "text/plain": [
       "plot without title"
      ]
     },
     "metadata": {},
     "output_type": "display_data"
    }
   ],
   "source": [
    "# In ham\n",
    "wordcloud(ham$text, max.words = 50, scale = c(3, 0.5))"
   ]
  },
  {
   "cell_type": "markdown",
   "metadata": {
    "collapsed": true
   },
   "source": [
    "The final step in the data preparation process is to transform the sparse matrix into a data structure that can be used to train a Naive Bayes classifier. It is unlikely that all of the feautures are useful for classification. To reduce the number of features, we will eliminate any word that appear in less than five SMS messages, or in less than about 0.1 percent of the records in the training data."
   ]
  },
  {
   "cell_type": "code",
   "execution_count": 14,
   "metadata": {
    "collapsed": false
   },
   "outputs": [],
   "source": [
    "# Removing sparse terms\n",
    "sms_dtm_freq_train <- removeSparseTerms(sms_dtm_train, 0.999)"
   ]
  },
  {
   "cell_type": "code",
   "execution_count": 15,
   "metadata": {
    "collapsed": true
   },
   "outputs": [],
   "source": [
    "# Saving frequently-appearing terms to a character vector\n",
    "sms_freq_words <- findFreqTerms(sms_dtm_train, 5)"
   ]
  },
  {
   "cell_type": "code",
   "execution_count": 16,
   "metadata": {
    "collapsed": true
   },
   "outputs": [],
   "source": [
    "# Creating Document Term Matrix with only the frequent terms\n",
    "sms_dtm_freq_train <- sms_dtm_train[ , sms_freq_words]\n",
    "sms_dtm_freq_test <- sms_dtm_test[ , sms_freq_words]"
   ]
  },
  {
   "cell_type": "code",
   "execution_count": 17,
   "metadata": {
    "collapsed": true
   },
   "outputs": [],
   "source": [
    "# Converting counts to a factor\n",
    "convert_counts <- function(x) {\n",
    "  x <- ifelse(x > 0, \"Yes\", \"No\")\n",
    "}\n",
    "\n",
    "# Appling convert_counts() to columns of train/test data\n",
    "sms_train <- apply(sms_dtm_freq_train, MARGIN = 2, convert_counts)\n",
    "sms_test  <- apply(sms_dtm_freq_test, MARGIN = 2, convert_counts)"
   ]
  },
  {
   "cell_type": "markdown",
   "metadata": {},
   "source": [
    "<b>STEP 3: Training a model on the data</b>\n",
    "\n",
    "We use the package *e1071* for building the Classifier:"
   ]
  },
  {
   "cell_type": "code",
   "execution_count": 18,
   "metadata": {
    "collapsed": true
   },
   "outputs": [],
   "source": [
    "library(e1071)\n",
    "sms_classifier <- naiveBayes(sms_train, sms_train_labels)"
   ]
  },
  {
   "cell_type": "markdown",
   "metadata": {},
   "source": [
    "<b>STEP 4: Evaluating model performance</b>\n",
    "\n",
    "Using CrossTable() function in *gmodels* package, we are printing out the confusion matrix as the part of the model evaluation."
   ]
  },
  {
   "cell_type": "code",
   "execution_count": 19,
   "metadata": {
    "collapsed": true
   },
   "outputs": [],
   "source": [
    "sms_test_pred <- predict(sms_classifier, sms_test)"
   ]
  },
  {
   "cell_type": "code",
   "execution_count": 21,
   "metadata": {
    "collapsed": false
   },
   "outputs": [
    {
     "name": "stdout",
     "output_type": "stream",
     "text": [
      "\n",
      " \n",
      "   Cell Contents\n",
      "|-------------------------|\n",
      "|                       N |\n",
      "|           N / Col Total |\n",
      "|-------------------------|\n",
      "\n",
      " \n",
      "Total Observations in Table:  1390 \n",
      "\n",
      " \n",
      "             | actual \n",
      "   predicted |       ham |      spam | Row Total | \n",
      "-------------|-----------|-----------|-----------|\n",
      "         ham |      1202 |        30 |      1232 | \n",
      "             |     0.996 |     0.164 |           | \n",
      "-------------|-----------|-----------|-----------|\n",
      "        spam |         5 |       153 |       158 | \n",
      "             |     0.004 |     0.836 |           | \n",
      "-------------|-----------|-----------|-----------|\n",
      "Column Total |      1207 |       183 |      1390 | \n",
      "             |     0.868 |     0.132 |           | \n",
      "-------------|-----------|-----------|-----------|\n",
      "\n",
      " \n"
     ]
    }
   ],
   "source": [
    "library(gmodels)\n",
    "CrossTable(sms_test_pred, sms_test_labels,\n",
    "           prop.chisq = FALSE, prop.t = FALSE, prop.r = FALSE,\n",
    "           dnn = c('predicted', 'actual'))"
   ]
  },
  {
   "cell_type": "markdown",
   "metadata": {
    "collapsed": true
   },
   "source": [
    "The Classifier perfomed fairly well with 35 insances being missclasified. The Accuracy Rate is 97%.\n",
    "\n",
    "<b>STEP 5: Improving model performance using Laplace smoothing</b>:\n",
    "\n",
    "Typically, the Laplace estimator is set to 1, which ensures that each class-feature combination is found in the data at least once."
   ]
  },
  {
   "cell_type": "code",
   "execution_count": 22,
   "metadata": {
    "collapsed": false
   },
   "outputs": [
    {
     "name": "stdout",
     "output_type": "stream",
     "text": [
      "\n",
      " \n",
      "   Cell Contents\n",
      "|-------------------------|\n",
      "|                       N |\n",
      "|           N / Col Total |\n",
      "|-------------------------|\n",
      "\n",
      " \n",
      "Total Observations in Table:  1390 \n",
      "\n",
      " \n",
      "             | actual \n",
      "   predicted |       ham |      spam | Row Total | \n",
      "-------------|-----------|-----------|-----------|\n",
      "         ham |      1202 |        29 |      1231 | \n",
      "             |     0.996 |     0.158 |           | \n",
      "-------------|-----------|-----------|-----------|\n",
      "        spam |         5 |       154 |       159 | \n",
      "             |     0.004 |     0.842 |           | \n",
      "-------------|-----------|-----------|-----------|\n",
      "Column Total |      1207 |       183 |      1390 | \n",
      "             |     0.868 |     0.132 |           | \n",
      "-------------|-----------|-----------|-----------|\n",
      "\n",
      " \n"
     ]
    }
   ],
   "source": [
    "sms_classifier2 <- naiveBayes(sms_train, sms_train_labels, laplace = 1)\n",
    "sms_test_pred2 <- predict(sms_classifier2, sms_test)\n",
    "CrossTable(sms_test_pred2, sms_test_labels,\n",
    "           prop.chisq = FALSE, prop.t = FALSE, prop.r = FALSE,\n",
    "           dnn = c('predicted', 'actual'))"
   ]
  },
  {
   "cell_type": "markdown",
   "metadata": {
    "collapsed": true
   },
   "source": [
    "In our case, using laplace smoothing did not significantly improve the model Accuracy."
   ]
  }
 ],
 "metadata": {
  "anaconda-cloud": {},
  "kernelspec": {
   "display_name": "R",
   "language": "R",
   "name": "ir"
  },
  "language_info": {
   "codemirror_mode": "r",
   "file_extension": ".r",
   "mimetype": "text/x-r-source",
   "name": "R",
   "pygments_lexer": "r",
   "version": "3.3.3"
  }
 },
 "nbformat": 4,
 "nbformat_minor": 0
}
