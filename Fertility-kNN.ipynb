{
 "cells": [
  {
   "cell_type": "markdown",
   "metadata": {},
   "source": [
    "Report on fertility kNN analysis\n",
    "===\n",
    "<b>STEP 1: Collecting the data</b>\n",
    "\n",
    "The data for the analysis was taken from the UCI Machine Learning Repository. The dataset (.txt file) includes 100 observations, each with 10 attributes. The diagnosis is coded as \"N\" to indicate normal or \"O\" to indicate altered."
   ]
  },
  {
   "cell_type": "markdown",
   "metadata": {
    "collapsed": true
   },
   "source": [
    "<b>STEP 2: Exploring and preparing the data</b>"
   ]
  },
  {
   "cell_type": "code",
   "execution_count": 1,
   "metadata": {
    "collapsed": false
   },
   "outputs": [],
   "source": [
    "# Loading the data\n",
    "mydata = read.table(\"https://archive.ics.uci.edu/ml/machine-learning-databases/00244/fertility_Diagnosis.txt\", sep = \",\", stringsAsFactors = FALSE)"
   ]
  },
  {
   "cell_type": "markdown",
   "metadata": {},
   "source": [
    "<b>STEP 2: Exploring and preparing the data</b>\n",
    "\n",
    "The data was read into the R, and the data structure was examined. There were no missing values (NAs). The Season attribute (V1) was dropped, since it does not contribute into prediction. The diagnosis labels then were recoded as “Normal” and “Altered”. "
   ]
  },
  {
   "cell_type": "code",
   "execution_count": 2,
   "metadata": {
    "collapsed": false
   },
   "outputs": [
    {
     "name": "stdout",
     "output_type": "stream",
     "text": [
      "'data.frame':\t100 obs. of  10 variables:\n",
      " $ V1 : num  -0.33 -0.33 -0.33 -0.33 -0.33 -0.33 -0.33 -0.33 1 1 ...\n",
      " $ V2 : num  0.69 0.94 0.5 0.75 0.67 0.67 0.67 1 0.64 0.61 ...\n",
      " $ V3 : int  0 1 1 0 1 1 0 1 0 1 ...\n",
      " $ V4 : int  1 0 0 1 1 0 0 1 0 0 ...\n",
      " $ V5 : int  1 1 0 1 0 1 0 1 1 0 ...\n",
      " $ V6 : int  0 0 0 0 0 0 -1 0 0 0 ...\n",
      " $ V7 : num  0.8 0.8 1 1 0.8 0.8 0.8 0.6 0.8 1 ...\n",
      " $ V8 : int  0 1 -1 -1 -1 0 -1 -1 -1 -1 ...\n",
      " $ V9 : num  0.88 0.31 0.5 0.38 0.5 0.5 0.44 0.38 0.25 0.25 ...\n",
      " $ V10: chr  \"N\" \"O\" \"N\" \"N\" ...\n"
     ]
    },
    {
     "data": {
      "text/html": [
       "0"
      ],
      "text/latex": [
       "0"
      ],
      "text/markdown": [
       "0"
      ],
      "text/plain": [
       "[1] 0"
      ]
     },
     "metadata": {},
     "output_type": "display_data"
    }
   ],
   "source": [
    "# Looking at the data\n",
    "str(mydata)\n",
    "# Checking if there are any missing values\n",
    "sum(is.na(mydata))"
   ]
  },
  {
   "cell_type": "code",
   "execution_count": 3,
   "metadata": {
    "collapsed": true
   },
   "outputs": [],
   "source": [
    "mydata <- mydata[,-1]\n",
    "mydata$V10 <- factor(mydata$V10, levels = c(\"N\", \"O\"),\n",
    "                         labels = c(\"Normal\", \"Altered\"))"
   ]
  },
  {
   "cell_type": "code",
   "execution_count": 4,
   "metadata": {
    "collapsed": false
   },
   "outputs": [
    {
     "data": {
      "text/html": [
       "<dl class=dl-horizontal>\n",
       "\t<dt>Normal</dt>\n",
       "\t\t<dd>88</dd>\n",
       "\t<dt>Altered</dt>\n",
       "\t\t<dd>12</dd>\n",
       "</dl>\n"
      ],
      "text/latex": [
       "\\begin{description*}\n",
       "\\item[Normal] 88\n",
       "\\item[Altered] 12\n",
       "\\end{description*}\n"
      ],
      "text/markdown": [
       "Normal\n",
       ":   88Altered\n",
       ":   12\n",
       "\n"
      ],
      "text/plain": [
       " Normal Altered \n",
       "     88      12 "
      ]
     },
     "metadata": {},
     "output_type": "display_data"
    }
   ],
   "source": [
    "summary(mydata$V10)"
   ]
  },
  {
   "cell_type": "markdown",
   "metadata": {},
   "source": [
    "Some of the columns were already normalized, however, others (V2 – Age, V6 – High fevers, V8 – Smoking habits) needed normalization. Min-Max normalization was then applied to the dataset."
   ]
  },
  {
   "cell_type": "code",
   "execution_count": 5,
   "metadata": {
    "collapsed": false
   },
   "outputs": [
    {
     "data": {
      "text/plain": [
       "   Min. 1st Qu.  Median    Mean 3rd Qu.    Max. \n",
       "  0.000   0.120   0.340   0.338   0.500   1.000 "
      ]
     },
     "metadata": {},
     "output_type": "display_data"
    },
    {
     "data": {
      "text/plain": [
       "   Min. 1st Qu.  Median    Mean 3rd Qu.    Max. \n",
       "  0.000   0.500   0.500   0.595   1.000   1.000 "
      ]
     },
     "metadata": {},
     "output_type": "display_data"
    },
    {
     "data": {
      "text/plain": [
       "   Min. 1st Qu.  Median    Mean 3rd Qu.    Max. \n",
       "  0.000   0.000   0.000   0.325   0.500   1.000 "
      ]
     },
     "metadata": {},
     "output_type": "display_data"
    }
   ],
   "source": [
    "# Creating normalization function\n",
    "normalize <- function(x) {\n",
    "  return ((x - min(x)) / (max(x) - min(x)))\n",
    "}\n",
    "# Normalizing the data\n",
    "mydata_n <- as.data.frame(lapply(mydata[1:8], normalize))\n",
    "summary(mydata_n$V2)\n",
    "summary(mydata_n$V6)\n",
    "summary(mydata_n$V8)"
   ]
  },
  {
   "cell_type": "markdown",
   "metadata": {},
   "source": [
    "The next sub step is splitting the data into the two parts – the training set and the test set. The training set contains 80 observations, while the test set contains 20 observations. The diagnosis labels were stored in the new variables <i>mydata_train_labels</i> and <i>mydata_test_labels</i>."
   ]
  },
  {
   "cell_type": "code",
   "execution_count": 6,
   "metadata": {
    "collapsed": true
   },
   "outputs": [],
   "source": [
    "# Creating training and test data\n",
    "mydata_train <- mydata_n[1:80, ]\n",
    "mydata_test <- mydata_n[81:100, ]\n",
    "\n",
    "# Creating labels for training and test data\n",
    "mydata_train_labels <- mydata[1:80, 9]\n",
    "mydata_test_labels <- mydata[81:100, 9]"
   ]
  },
  {
   "cell_type": "markdown",
   "metadata": {},
   "source": [
    "<b>STEP 3: Training a model on a data</b>\n",
    "\n",
    "The <i>class</i> package was installed and loaded into R. We then performed the kNN analysis using the <i>knn</i> function from the class package. K-value of 2 was chosen based on the size of the dataset. "
   ]
  },
  {
   "cell_type": "code",
   "execution_count": 7,
   "metadata": {
    "collapsed": false
   },
   "outputs": [
    {
     "data": {
      "text/html": [
       "<table>\n",
       "<thead><tr><th></th><th scope=col>V2</th><th scope=col>V3</th><th scope=col>V4</th><th scope=col>V5</th><th scope=col>V6</th><th scope=col>V7</th><th scope=col>V8</th><th scope=col>V9</th></tr></thead>\n",
       "<tbody>\n",
       "\t<tr><th scope=row>81</th><td>0.84     </td><td>1        </td><td>1        </td><td>0        </td><td>1.0      </td><td>1.00     </td><td>0.0      </td><td>0.6063830</td></tr>\n",
       "\t<tr><th scope=row>82</th><td>0.62     </td><td>1        </td><td>1        </td><td>1        </td><td>1.0      </td><td>0.75     </td><td>0.5      </td><td>0.1382979</td></tr>\n",
       "\t<tr><th scope=row>83</th><td>0.84     </td><td>1        </td><td>0        </td><td>0        </td><td>1.0      </td><td>0.50     </td><td>0.0      </td><td>0.1382979</td></tr>\n",
       "\t<tr><th scope=row>84</th><td>0.72     </td><td>1        </td><td>1        </td><td>1        </td><td>1.0      </td><td>1.00     </td><td>0.0      </td><td>0.2021277</td></tr>\n",
       "\t<tr><th scope=row>85</th><td>0.56     </td><td>1        </td><td>0        </td><td>0        </td><td>1.0      </td><td>1.00     </td><td>1.0      </td><td>0.0000000</td></tr>\n",
       "\t<tr><th scope=row>86</th><td>0.78     </td><td>1        </td><td>1        </td><td>0        </td><td>0.5      </td><td>0.50     </td><td>1.0      </td><td>0.2659574</td></tr>\n",
       "</tbody>\n",
       "</table>\n"
      ],
      "text/latex": [
       "\\begin{tabular}{r|llllllll}\n",
       "  & V2 & V3 & V4 & V5 & V6 & V7 & V8 & V9\\\\\n",
       "\\hline\n",
       "\t81 & 0.84      & 1         & 1         & 0         & 1.0       & 1.00      & 0.0       & 0.6063830\\\\\n",
       "\t82 & 0.62      & 1         & 1         & 1         & 1.0       & 0.75      & 0.5       & 0.1382979\\\\\n",
       "\t83 & 0.84      & 1         & 0         & 0         & 1.0       & 0.50      & 0.0       & 0.1382979\\\\\n",
       "\t84 & 0.72      & 1         & 1         & 1         & 1.0       & 1.00      & 0.0       & 0.2021277\\\\\n",
       "\t85 & 0.56      & 1         & 0         & 0         & 1.0       & 1.00      & 1.0       & 0.0000000\\\\\n",
       "\t86 & 0.78      & 1         & 1         & 0         & 0.5       & 0.50      & 1.0       & 0.2659574\\\\\n",
       "\\end{tabular}\n"
      ],
      "text/markdown": [
       "\n",
       "| <!--/--> | V2 | V3 | V4 | V5 | V6 | V7 | V8 | V9 | \n",
       "|---|---|---|---|---|---|\n",
       "| 81 | 0.84      | 1         | 1         | 0         | 1.0       | 1.00      | 0.0       | 0.6063830 | \n",
       "| 82 | 0.62      | 1         | 1         | 1         | 1.0       | 0.75      | 0.5       | 0.1382979 | \n",
       "| 83 | 0.84      | 1         | 0         | 0         | 1.0       | 0.50      | 0.0       | 0.1382979 | \n",
       "| 84 | 0.72      | 1         | 1         | 1         | 1.0       | 1.00      | 0.0       | 0.2021277 | \n",
       "| 85 | 0.56      | 1         | 0         | 0         | 1.0       | 1.00      | 1.0       | 0.0000000 | \n",
       "| 86 | 0.78      | 1         | 1         | 0         | 0.5       | 0.50      | 1.0       | 0.2659574 | \n",
       "\n",
       "\n"
      ],
      "text/plain": [
       "   V2   V3 V4 V5 V6  V7   V8  V9       \n",
       "81 0.84 1  1  0  1.0 1.00 0.0 0.6063830\n",
       "82 0.62 1  1  1  1.0 0.75 0.5 0.1382979\n",
       "83 0.84 1  0  0  1.0 0.50 0.0 0.1382979\n",
       "84 0.72 1  1  1  1.0 1.00 0.0 0.2021277\n",
       "85 0.56 1  0  0  1.0 1.00 1.0 0.0000000\n",
       "86 0.78 1  1  0  0.5 0.50 1.0 0.2659574"
      ]
     },
     "metadata": {},
     "output_type": "display_data"
    },
    {
     "data": {
      "text/html": [
       "<ol class=list-inline>\n",
       "\t<li>Altered</li>\n",
       "\t<li>Normal</li>\n",
       "\t<li>Normal</li>\n",
       "\t<li>Normal</li>\n",
       "\t<li>Altered</li>\n",
       "\t<li>Normal</li>\n",
       "</ol>\n"
      ],
      "text/latex": [
       "\\begin{enumerate*}\n",
       "\\item Altered\n",
       "\\item Normal\n",
       "\\item Normal\n",
       "\\item Normal\n",
       "\\item Altered\n",
       "\\item Normal\n",
       "\\end{enumerate*}\n"
      ],
      "text/markdown": [
       "1. Altered\n",
       "2. Normal\n",
       "3. Normal\n",
       "4. Normal\n",
       "5. Altered\n",
       "6. Normal\n",
       "\n",
       "\n"
      ],
      "text/plain": [
       "[1] Altered Normal  Normal  Normal  Altered Normal \n",
       "Levels: Normal Altered"
      ]
     },
     "metadata": {},
     "output_type": "display_data"
    }
   ],
   "source": [
    "library(class)\n",
    "mydata_test_pred <- knn(train = mydata_train, test = mydata_test,\n",
    "                      cl = mydata_train_labels, k = 2)\n",
    "\n",
    "head(mydata_test)\n",
    "head(mydata_test_pred)"
   ]
  },
  {
   "cell_type": "markdown",
   "metadata": {},
   "source": [
    "<b>STEP 4: Evaluating model performance</b>\n",
    "\n",
    "Using the <i>CrossTable</i> function from the <i>gmodels</i> package, we printed out the confusion matrix as the part of the model evaluation. The Accuracy rate of the model is 85%, while the Error rate is 15%."
   ]
  },
  {
   "cell_type": "code",
   "execution_count": 10,
   "metadata": {
    "collapsed": false
   },
   "outputs": [
    {
     "name": "stdout",
     "output_type": "stream",
     "text": [
      "\n",
      " \n",
      "   Cell Contents\n",
      "|-------------------------|\n",
      "|                       N |\n",
      "|           N / Row Total |\n",
      "|           N / Col Total |\n",
      "|         N / Table Total |\n",
      "|-------------------------|\n",
      "\n",
      " \n",
      "Total Observations in Table:  20 \n",
      "\n",
      " \n",
      "                   | mydata_test_pred \n",
      "mydata_test_labels |    Normal |   Altered | Row Total | \n",
      "-------------------|-----------|-----------|-----------|\n",
      "            Normal |        17 |         1 |        18 | \n",
      "                   |     0.944 |     0.056 |     0.900 | \n",
      "                   |     0.944 |     0.500 |           | \n",
      "                   |     0.850 |     0.050 |           | \n",
      "-------------------|-----------|-----------|-----------|\n",
      "           Altered |         1 |         1 |         2 | \n",
      "                   |     0.500 |     0.500 |     0.100 | \n",
      "                   |     0.056 |     0.500 |           | \n",
      "                   |     0.050 |     0.050 |           | \n",
      "-------------------|-----------|-----------|-----------|\n",
      "      Column Total |        18 |         2 |        20 | \n",
      "                   |     0.900 |     0.100 |           | \n",
      "-------------------|-----------|-----------|-----------|\n",
      "\n",
      " \n"
     ]
    }
   ],
   "source": [
    "library(gmodels)\n",
    "# Creating the cross tabulation of predicted vs. actual\n",
    "CrossTable(x = mydata_test_labels, y = mydata_test_pred,\n",
    "           prop.chisq = FALSE)"
   ]
  },
  {
   "cell_type": "markdown",
   "metadata": {
    "collapsed": true
   },
   "source": [
    "<b>STEP 5: Improving model performance</b>\n",
    "\n",
    "After trying different K-values for the training parameter, we found out that with K = 3, the function produces the Accuracy rate of 90%, but classifies one observation with “Altered” label as it is “Normal”, which is very undesirable in medical diagnosis."
   ]
  },
  {
   "cell_type": "code",
   "execution_count": 11,
   "metadata": {
    "collapsed": false
   },
   "outputs": [
    {
     "name": "stdout",
     "output_type": "stream",
     "text": [
      "\n",
      " \n",
      "   Cell Contents\n",
      "|-------------------------|\n",
      "|                       N |\n",
      "|           N / Row Total |\n",
      "|           N / Col Total |\n",
      "|         N / Table Total |\n",
      "|-------------------------|\n",
      "\n",
      " \n",
      "Total Observations in Table:  20 \n",
      "\n",
      " \n",
      "                   | mydata_test_pred \n",
      "mydata_test_labels |    Normal |   Altered | Row Total | \n",
      "-------------------|-----------|-----------|-----------|\n",
      "            Normal |        16 |         2 |        18 | \n",
      "                   |     0.889 |     0.111 |     0.900 | \n",
      "                   |     0.941 |     0.667 |           | \n",
      "                   |     0.800 |     0.100 |           | \n",
      "-------------------|-----------|-----------|-----------|\n",
      "           Altered |         1 |         1 |         2 | \n",
      "                   |     0.500 |     0.500 |     0.100 | \n",
      "                   |     0.059 |     0.333 |           | \n",
      "                   |     0.050 |     0.050 |           | \n",
      "-------------------|-----------|-----------|-----------|\n",
      "      Column Total |        17 |         3 |        20 | \n",
      "                   |     0.850 |     0.150 |           | \n",
      "-------------------|-----------|-----------|-----------|\n",
      "\n",
      " \n"
     ]
    }
   ],
   "source": [
    "mydata_test_pred <- knn(train = mydata_train, test = mydata_test, cl = mydata_train_labels, k=3)\n",
    "CrossTable(x = mydata_test_labels, y = mydata_test_pred, prop.chisq=FALSE)"
   ]
  }
 ],
 "metadata": {
  "anaconda-cloud": {},
  "kernelspec": {
   "display_name": "R",
   "language": "R",
   "name": "ir"
  },
  "language_info": {
   "codemirror_mode": "r",
   "file_extension": ".r",
   "mimetype": "text/x-r-source",
   "name": "R",
   "pygments_lexer": "r",
   "version": "3.3.3"
  }
 },
 "nbformat": 4,
 "nbformat_minor": 0
}
